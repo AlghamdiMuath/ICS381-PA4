{
 "cells": [
  {
   "cell_type": "code",
   "execution_count": 1,
   "id": "59015ac5",
   "metadata": {},
   "outputs": [
    {
     "name": "stdout",
     "output_type": "stream",
     "text": [
      "Collecting python-chess==1.999\n",
      "  Using cached python_chess-1.999-py3-none-any.whl (1.4 kB)\n",
      "Collecting chess<2,>=1\n",
      "  Using cached chess-1.9.4-py3-none-any.whl (149 kB)\n",
      "Installing collected packages: chess, python-chess\n",
      "Successfully installed chess-1.9.4 python-chess-1.999\n",
      "\n",
      "[notice] A new release of pip available: 22.1.2 -> 23.1.2\n",
      "[notice] To update, run: python.exe -m pip install --upgrade pip\n"
     ]
    }
   ],
   "source": [
    "!pip install python-chess==1.999"
   ]
  },
  {
   "cell_type": "code",
   "execution_count": 2,
   "id": "de946342",
   "metadata": {},
   "outputs": [],
   "source": []
  },
  {
   "cell_type": "code",
   "execution_count": 5,
   "id": "a21c2ce8",
   "metadata": {},
   "outputs": [],
   "source": [
    "import chess\n",
    "from numpy import infty\n",
    "def heuristic_chess(board):\n",
    "    outcome = board.outcome()\n",
    "    if outcome is not None:\n",
    "        if outcome.winner:\n",
    "            return 1 # W win\n",
    "        elif outcome.winner is None:\n",
    "            return 0 # draw\n",
    "        else:\n",
    "            return -1 # Black wins\n",
    "\n",
    "    fpawn = len(board.pieces(chess.PAWN, chess.WHITE)) - len(board.pieces(chess.PAWN, chess.BLACK))\n",
    "    fknight = len(board.pieces(chess.KNIGHT, chess.WHITE)) - len(board.pieces(chess.KNIGHT, chess.BLACK))\n",
    "    fbishop = len(board.pieces(chess.BISHOP, chess.WHITE)) - len(board.pieces(chess.BISHOP, chess.BLACK))\n",
    "    frook = len(board.pieces(chess.ROOK, chess.WHITE)) - len(board.pieces(chess.ROOK, chess.BLACK))\n",
    "    fqueen = len(board.pieces(chess.QUEEN, chess.WHITE)) - len(board.pieces(chess.QUEEN, chess.BLACK))\n",
    "\n",
    "    # Calculate heuristic value\n",
    "    heuristic_value = (fpawn + 3*fknight + 4*fbishop + 5 *frook + 9*fqueen)\n",
    "    heuristic_value = heuristic_value / 100\n",
    "    return heuristic_value\n",
    "\n",
    "def is_cutoff(board, current_depth, depth_limit=2):\n",
    "    if board.outcome() is not None | current_depth == depth_limit:\n",
    "        return True\n",
    "    \n",
    "   # if current_depth == depth_limit:\n",
    "       # return True\n",
    "    \n",
    "    else:\n",
    "        return False\n",
    "\n",
    "\n",
    "def max_node(board, current_depth, depth_limit):\n",
    "    if is_cutoff(board, current_depth, depth_limit):\n",
    "        return heuristic_chess(board), None\n",
    "    \n",
    "    v= -infty\n",
    "    move = None\n",
    "    for a in board.legal_moves:\n",
    "        board.push(a)\n",
    "        v2, a2 = min_node(board, current_depth + 1, depth_limit)\n",
    "        if v2 > v:\n",
    "            v = v2\n",
    "            move = a\n",
    "        board.pop()\n",
    "    \n",
    "    return v, move\n",
    "\n",
    "def min_node(board, current_depth, depth_limit):\n",
    "    if is_cutoff(board, current_depth, depth_limit):\n",
    "        return heuristic_chess(board), None\n",
    "    \n",
    "    v = infty\n",
    "    move = None\n",
    "    for a in board.legal_moves:\n",
    "        board.push(a)\n",
    "        v2, a2 = max_node(board, current_depth + 1, depth_limit)\n",
    "        if v2 < v:\n",
    "            v = v2\n",
    "            move = a\n",
    "        board.pop()\n",
    "    \n",
    "    return v, move\n",
    "\n",
    "def h_minimax(board , depth_limit = 2):\n",
    "    heuristic_value, move = max_node(board , 0 , depth_limit)\n",
    "    return heuristic_value, move\n",
    "\n",
    "\n",
    "\n",
    "def max_node_ab(board, current_depth, depth_limit, alpha, beta):\n",
    "    if is_cutoff(board, current_depth, depth_limit):\n",
    "        return heuristic_chess(board), None\n",
    "    \n",
    "    v= -infty\n",
    "    #move = None\n",
    "    for a in board.legal_moves:\n",
    "        board.push(a)\n",
    "        v2, a2 = min_node_ab(board, current_depth + 1, depth_limit , alpha,beta)\n",
    "        if v2 > v:\n",
    "            v = v2\n",
    "            move = a\n",
    "            alpha = max(alpha,v)\n",
    "        board.pop()\n",
    "        if v >= beta:\n",
    "            return v , move\n",
    "    return v, move\n",
    "\n",
    "def min_node_ab(board, current_depth, depth_limit, alpha, beta):\n",
    "    if is_cutoff(board, current_depth, depth_limit):\n",
    "        return heuristic_chess(board), None\n",
    "    \n",
    "    v = infty\n",
    "  #  move = None\n",
    "    for a in board.legal_moves:\n",
    "        board.push(a)\n",
    "        v2, a2 = max_node_ab(board, current_depth + 1, depth_limit, alpha, beta)\n",
    "        if v2 < v:\n",
    "            v = v2\n",
    "            move = a\n",
    "            beta = min(beta,v)\n",
    "        board.pop()\n",
    "        if v <= alpha:\n",
    "            return v, move\n",
    "    return v, move\n",
    "def h_minimax_alpha_beta(board, depth_limit=2):\n",
    "    heuristic_value, move = max_node_ab(board , 0 , depth_limit , -infty , infty)\n",
    "    return heuristic_value, move"
   ]
  },
  {
   "cell_type": "code",
   "execution_count": 3,
   "id": "20b70a4e",
   "metadata": {},
   "outputs": [
    {
     "name": "stdout",
     "output_type": "stream",
     "text": [
      "True\n"
     ]
    }
   ],
   "source": [
    " print(True or False)"
   ]
  },
  {
   "cell_type": "code",
   "execution_count": null,
   "id": "372353d9",
   "metadata": {},
   "outputs": [],
   "source": [
    "function MAX-VALUE(game, state) returns a (utility, move) pair\n",
    "    if game.IS-CUTOFF(state, depth) then return (game.UTILITY(state, player), null) \n",
    "    v, move <- ∞\n",
    "    for each a in game.ACTIONS(state) do\n",
    "        v2, a2 <- MIN-VALUE(game, game.RESULT(state, a))\n",
    "        if v2 > v then\n",
    "            v, move <- v2, a\n",
    "    return v, move"
   ]
  }
 ],
 "metadata": {
  "kernelspec": {
   "display_name": "Python 3",
   "language": "python",
   "name": "python3"
  },
  "language_info": {
   "codemirror_mode": {
    "name": "ipython",
    "version": 3
   },
   "file_extension": ".py",
   "mimetype": "text/x-python",
   "name": "python",
   "nbconvert_exporter": "python",
   "pygments_lexer": "ipython3",
   "version": "3.8.8"
  },
  "toc": {
   "base_numbering": 1,
   "nav_menu": {},
   "number_sections": true,
   "sideBar": true,
   "skip_h1_title": false,
   "title_cell": "Table of Contents",
   "title_sidebar": "Contents",
   "toc_cell": false,
   "toc_position": {},
   "toc_section_display": true,
   "toc_window_display": false
  }
 },
 "nbformat": 4,
 "nbformat_minor": 5
}
